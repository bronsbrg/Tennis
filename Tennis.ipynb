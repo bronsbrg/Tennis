{
 "cells": [
  {
   "cell_type": "markdown",
   "metadata": {},
   "source": [
    "# Collaboration and Competition\n",
    "\n",
    "---\n",
    "\n",
    "In this notebook, you will learn how to use the Unity ML-Agents environment for the third project of the [Deep Reinforcement Learning Nanodegree](https://www.udacity.com/course/deep-reinforcement-learning-nanodegree--nd893) program.\n",
    "\n",
    "### 1. Start the Environment\n",
    "\n",
    "We begin by importing the necessary packages.  If the code cell below returns an error, please revisit the project instructions to double-check that you have installed [Unity ML-Agents](https://github.com/Unity-Technologies/ml-agents/blob/master/docs/Installation.md) and [NumPy](http://www.numpy.org/)."
   ]
  },
  {
   "cell_type": "code",
   "execution_count": 1,
   "metadata": {},
   "outputs": [],
   "source": [
    "from unityagents import UnityEnvironment\n",
    "import numpy as np"
   ]
  },
  {
   "cell_type": "markdown",
   "metadata": {},
   "source": [
    "Next, we will start the environment!  **_Before running the code cell below_**, change the `file_name` parameter to match the location of the Unity environment that you downloaded.\n",
    "\n",
    "- **Mac**: `\"path/to/Tennis.app\"`\n",
    "- **Windows** (x86): `\"path/to/Tennis_Windows_x86/Tennis.exe\"`\n",
    "- **Windows** (x86_64): `\"path/to/Tennis_Windows_x86_64/Tennis.exe\"`\n",
    "- **Linux** (x86): `\"path/to/Tennis_Linux/Tennis.x86\"`\n",
    "- **Linux** (x86_64): `\"path/to/Tennis_Linux/Tennis.x86_64\"`\n",
    "- **Linux** (x86, headless): `\"path/to/Tennis_Linux_NoVis/Tennis.x86\"`\n",
    "- **Linux** (x86_64, headless): `\"path/to/Tennis_Linux_NoVis/Tennis.x86_64\"`\n",
    "\n",
    "For instance, if you are using a Mac, then you downloaded `Tennis.app`.  If this file is in the same folder as the notebook, then the line below should appear as follows:\n",
    "```\n",
    "env = UnityEnvironment(file_name=\"Tennis.app\")\n",
    "```"
   ]
  },
  {
   "cell_type": "code",
   "execution_count": 2,
   "metadata": {},
   "outputs": [
    {
     "name": "stderr",
     "output_type": "stream",
     "text": [
      "INFO:unityagents:\n",
      "'Academy' started successfully!\n",
      "Unity Academy name: Academy\n",
      "        Number of Brains: 1\n",
      "        Number of External Brains : 1\n",
      "        Lesson number : 0\n",
      "        Reset Parameters :\n",
      "\t\t\n",
      "Unity brain name: TennisBrain\n",
      "        Number of Visual Observations (per agent): 0\n",
      "        Vector Observation space type: continuous\n",
      "        Vector Observation space size (per agent): 8\n",
      "        Number of stacked Vector Observation: 3\n",
      "        Vector Action space type: continuous\n",
      "        Vector Action space size (per agent): 2\n",
      "        Vector Action descriptions: , \n"
     ]
    }
   ],
   "source": [
    "env = UnityEnvironment(file_name=\"Tennis_Windows_x86_64/Tennis.exe\")"
   ]
  },
  {
   "cell_type": "markdown",
   "metadata": {},
   "source": [
    "Environments contain **_brains_** which are responsible for deciding the actions of their associated agents. Here we check for the first brain available, and set it as the default brain we will be controlling from Python."
   ]
  },
  {
   "cell_type": "code",
   "execution_count": 3,
   "metadata": {},
   "outputs": [],
   "source": [
    "# get the default brain\n",
    "brain_name = env.brain_names[0]\n",
    "brain = env.brains[brain_name]"
   ]
  },
  {
   "cell_type": "markdown",
   "metadata": {},
   "source": [
    "### 2. Examine the State and Action Spaces\n",
    "\n",
    "In this environment, two agents control rackets to bounce a ball over a net. If an agent hits the ball over the net, it receives a reward of +0.1.  If an agent lets a ball hit the ground or hits the ball out of bounds, it receives a reward of -0.01.  Thus, the goal of each agent is to keep the ball in play.\n",
    "\n",
    "The observation space consists of 8 variables corresponding to the position and velocity of the ball and racket. Two continuous actions are available, corresponding to movement toward (or away from) the net, and jumping. \n",
    "\n",
    "Run the code cell below to print some information about the environment."
   ]
  },
  {
   "cell_type": "code",
   "execution_count": 4,
   "metadata": {
    "scrolled": true
   },
   "outputs": [
    {
     "name": "stdout",
     "output_type": "stream",
     "text": [
      "Number of agents: 2\n",
      "Size of each action: 2\n",
      "There are 2 agents. Each observes a state with length: 24\n",
      "The state for the first agent looks like: [ 0.          0.          0.          0.          0.          0.\n",
      "  0.          0.          0.          0.          0.          0.\n",
      "  0.          0.          0.          0.         -6.65278625 -1.5\n",
      " -0.          0.          6.83172083  6.         -0.          0.        ]\n"
     ]
    }
   ],
   "source": [
    "# reset the environment\n",
    "env_info = env.reset(train_mode=True)[brain_name]\n",
    "\n",
    "# number of agents \n",
    "num_agents = len(env_info.agents)\n",
    "print('Number of agents:', num_agents)\n",
    "\n",
    "# size of each action\n",
    "action_size = brain.vector_action_space_size\n",
    "print('Size of each action:', action_size)\n",
    "\n",
    "# examine the state space \n",
    "states = env_info.vector_observations\n",
    "state_size = states.shape[1]\n",
    "print('There are {} agents. Each observes a state with length: {}'.format(states.shape[0], state_size))\n",
    "print('The state for the first agent looks like:', states[0])"
   ]
  },
  {
   "cell_type": "markdown",
   "metadata": {},
   "source": [
    "### 3. Take Random Actions in the Environment\n",
    "\n",
    "In the next code cell, you will learn how to use the Python API to control the agents and receive feedback from the environment.\n",
    "\n",
    "Once this cell is executed, you will watch the agents' performance, if they select actions at random with each time step.  A window should pop up that allows you to observe the agents.\n",
    "\n",
    "Of course, as part of the project, you'll have to change the code so that the agents are able to use their experiences to gradually choose better actions when interacting with the environment!"
   ]
  },
  {
   "cell_type": "code",
   "execution_count": 6,
   "metadata": {},
   "outputs": [
    {
     "name": "stdout",
     "output_type": "stream",
     "text": [
      "Score (max over agents) from episode 1: 0.0\n",
      "Score (max over agents) from episode 2: 0.0\n",
      "Score (max over agents) from episode 3: 0.0\n",
      "Score (max over agents) from episode 4: 0.10000000149011612\n",
      "Score (max over agents) from episode 5: 0.0\n"
     ]
    }
   ],
   "source": [
    "for i in range(1, 6):                                      # play game for 5 episodes\n",
    "    env_info = env.reset(train_mode=False)[brain_name]     # reset the environment    \n",
    "    states = env_info.vector_observations                  # get the current state (for each agent)\n",
    "    scores = np.zeros(num_agents)                          # initialize the score (for each agent)\n",
    "    while True:\n",
    "        actions = np.random.randn(num_agents, action_size) # select an action (for each agent)\n",
    "        actions = np.clip(actions, -1, 1)                  # all actions between -1 and 1\n",
    "        env_info = env.step(actions)[brain_name]           # send all actions to tne environment\n",
    "        next_states = env_info.vector_observations         # get next state (for each agent)\n",
    "        rewards = env_info.rewards                         # get reward (for each agent)\n",
    "        dones = env_info.local_done                        # see if episode finished\n",
    "        scores += env_info.rewards                         # update the score (for each agent)\n",
    "        states = next_states                               # roll over states to next time step\n",
    "        if np.any(dones):                                  # exit loop if episode finished\n",
    "            break\n",
    "    print('Score (max over agents) from episode {}: {}'.format(i, np.max(scores)))"
   ]
  },
  {
   "cell_type": "markdown",
   "metadata": {},
   "source": [
    "When finished, you can close the environment."
   ]
  },
  {
   "cell_type": "code",
   "execution_count": 7,
   "metadata": {},
   "outputs": [],
   "source": [
    "env.close()"
   ]
  },
  {
   "cell_type": "markdown",
   "metadata": {},
   "source": [
    "### 4. It's Your Turn!\n",
    "\n",
    "Now it's your turn to train your own agent to solve the environment!  When training the environment, set `train_mode=True`, so that the line for resetting the environment looks like the following:\n",
    "```python\n",
    "env_info = env.reset(train_mode=True)[brain_name]\n",
    "```"
   ]
  },
  {
   "cell_type": "markdown",
   "metadata": {},
   "source": [
    "### 5. Import Required Additional Modules and Create Agents"
   ]
  },
  {
   "cell_type": "code",
   "execution_count": 2,
   "metadata": {},
   "outputs": [
    {
     "name": "stderr",
     "output_type": "stream",
     "text": [
      "INFO:unityagents:\n",
      "'Academy' started successfully!\n",
      "Unity Academy name: Academy\n",
      "        Number of Brains: 1\n",
      "        Number of External Brains : 1\n",
      "        Lesson number : 0\n",
      "        Reset Parameters :\n",
      "\t\t\n",
      "Unity brain name: TennisBrain\n",
      "        Number of Visual Observations (per agent): 0\n",
      "        Vector Observation space type: continuous\n",
      "        Vector Observation space size (per agent): 8\n",
      "        Number of stacked Vector Observation: 3\n",
      "        Vector Action space type: continuous\n",
      "        Vector Action space size (per agent): 2\n",
      "        Vector Action descriptions: , \n"
     ]
    }
   ],
   "source": [
    "from unityagents import UnityEnvironment\n",
    "import numpy as np\n",
    "import random\n",
    "import time\n",
    "import torch\n",
    "from collections import deque\n",
    "import matplotlib.pyplot as plt\n",
    "get_ipython().run_line_magic('matplotlib', 'inline')\n",
    "\n",
    "from ddpg_agent import Agent\n",
    "\n",
    "env = UnityEnvironment(file_name='Tennis_Windows_x86_64/Tennis.exe')"
   ]
  },
  {
   "cell_type": "code",
   "execution_count": 3,
   "metadata": {},
   "outputs": [
    {
     "name": "stdout",
     "output_type": "stream",
     "text": [
      "Number of agents: 2\n",
      "Size of each action: 2\n",
      "There are 2 agents. Each observes a state with length: 24\n",
      "The state for the first agent looks like: [ 0.          0.          0.          0.          0.          0.\n",
      "  0.          0.          0.          0.          0.          0.\n",
      "  0.          0.          0.          0.         -6.65278625 -1.5\n",
      " -0.          0.          6.83172083  6.         -0.          0.        ]\n",
      "2 agents created\n"
     ]
    }
   ],
   "source": [
    "brain_name = env.brain_names[0]\n",
    "brain = env.brains[brain_name]\n",
    "\n",
    "# reset the environment\n",
    "env_info = env.reset(train_mode=True)[brain_name]\n",
    "\n",
    "# number of agents\n",
    "num_agents = len(env_info.agents)\n",
    "print('Number of agents:', num_agents)\n",
    "\n",
    "# size of each action\n",
    "action_size = brain.vector_action_space_size\n",
    "print('Size of each action:', action_size)\n",
    "\n",
    "# examine the state space \n",
    "states = env_info.vector_observations\n",
    "state_size = states.shape[1]\n",
    "print(f'There are {states.shape[0]} agents. Each observes a state with length: {state_size}')\n",
    "print(f'The state for the first agent looks like: {states[0]}')\n",
    "\n",
    "agents = Agent(num_agents=num_agents, state_size=state_size, action_size=action_size, random_seed=time.time())\n",
    "print(f'{num_agents} agents created')"
   ]
  },
  {
   "cell_type": "markdown",
   "metadata": {},
   "source": [
    "### 6. Train the Agent with DDPG"
   ]
  },
  {
   "cell_type": "code",
   "execution_count": 4,
   "metadata": {
    "scrolled": true
   },
   "outputs": [
    {
     "name": "stdout",
     "output_type": "stream",
     "text": [
      "Episode 100\t100-Ep. Avg.: 0.00\tMax Ep. Score: 0.10\n",
      "Episode 200\t100-Ep. Avg.: 0.00\tMax Ep. Score: 0.00\n",
      "Episode 300\t100-Ep. Avg.: 0.00\tMax Ep. Score: 0.00\n",
      "Episode 400\t100-Ep. Avg.: 0.00\tMax Ep. Score: 0.00\n",
      "Episode 500\t100-Ep. Avg.: 0.00\tMax Ep. Score: 0.10\n",
      "Episode 600\t100-Ep. Avg.: 0.00\tMax Ep. Score: 0.10\n",
      "Episode 700\t100-Ep. Avg.: 0.00\tMax Ep. Score: 0.09\n",
      "Episode 800\t100-Ep. Avg.: 0.00\tMax Ep. Score: 0.10\n",
      "Episode 900\t100-Ep. Avg.: 0.00\tMax Ep. Score: 0.10\n",
      "Episode 1000\t100-Ep. Avg.: 0.01\tMax Ep. Score: 0.10\n",
      "Episode 1100\t100-Ep. Avg.: 0.01\tMax Ep. Score: 0.10\n",
      "Episode 1200\t100-Ep. Avg.: 0.01\tMax Ep. Score: 0.10\n",
      "Episode 1300\t100-Ep. Avg.: 0.00\tMax Ep. Score: 0.10\n",
      "Episode 1400\t100-Ep. Avg.: 0.03\tMax Ep. Score: 0.10\n",
      "Episode 1500\t100-Ep. Avg.: 0.01\tMax Ep. Score: 0.10\n",
      "Episode 1600\t100-Ep. Avg.: 0.04\tMax Ep. Score: 0.20\n",
      "Episode 1700\t100-Ep. Avg.: 0.06\tMax Ep. Score: 0.20\n",
      "Episode 1800\t100-Ep. Avg.: 0.09\tMax Ep. Score: 0.30\n",
      "Episode 1900\t100-Ep. Avg.: 0.10\tMax Ep. Score: 0.30\n",
      "Episode 2000\t100-Ep. Avg.: 0.11\tMax Ep. Score: 0.40\n",
      "Episode 2100\t100-Ep. Avg.: 0.14\tMax Ep. Score: 0.50\n",
      "Episode 2200\t100-Ep. Avg.: 0.17\tMax Ep. Score: 0.70\n",
      "Episode 2300\t100-Ep. Avg.: 0.23\tMax Ep. Score: 1.20\n",
      "Episode 2400\t100-Ep. Avg.: 0.39\tMax Ep. Score: 2.50\n",
      "Episode 2500\t100-Ep. Avg.: 0.40\tMax Ep. Score: 2.60\n",
      "Episode 2593\t100-Ep. Avg.: 0.49\tMax Ep. Score: 2.60** Passed 0.5 at episode 2594 **\n",
      "Episode 2600\t100-Ep. Avg.: 0.50\tMax Ep. Score: 2.60\n",
      "Episode 2700\t100-Ep. Avg.: 0.58\tMax Ep. Score: 2.60\n",
      "Episode 2717\t100-Ep. Avg.: 0.60\tMax Ep. Score: 1.70\n"
     ]
    },
    {
     "data": {
      "image/png": "[encoded data removed]",
      "text/plain": [
       "<Figure size 432x288 with 1 Axes>"
      ]
     },
     "metadata": {},
     "output_type": "display_data"
    }
   ],
   "source": [
    "def ddpg(n_episodes=6000, max_t=1000):\n",
    "    scores_deque = deque(maxlen=100)\n",
    "    scores = []\n",
    "    avgs = []\n",
    "    max_ep_score = float('-inf')\n",
    "    found_5p0 = False\n",
    "    for i_episode in range(1, n_episodes+1):\n",
    "        env_info = env.reset(train_mode=True)[brain_name]\n",
    "        states = env_info.vector_observations\n",
    "        agents.reset()\n",
    "        score = np.zeros(num_agents)\n",
    "        for t in range(max_t):\n",
    "            actions = agents.act(states)                   # adds noise by default\n",
    "            env_info = env.step(actions)[brain_name]       # send the actions to the environment\n",
    "            next_states = env_info.vector_observations     # get next state (for each agent)\n",
    "            rewards = env_info.rewards                     # get reward (for each agent)\n",
    "            dones = env_info.local_done                    # see if episode has finished\n",
    "            agents.step(states, actions, rewards, next_states, dones)\n",
    "            score += rewards\n",
    "            states = next_states\n",
    "            if np.any(dones):                              # exit loop if any episode finished\n",
    "                break\n",
    "        ep_score = np.max(score)                           # episode score is max of the two agents\n",
    "        if ep_score > max_ep_score:\n",
    "            max_ep_score = ep_score\n",
    "        scores_deque.append(ep_score)                      # collect episode score for moving window average\n",
    "        scores.append(ep_score)\n",
    "        avg_win = np.mean(scores_deque)\n",
    "        avgs.append(avg_win)\n",
    "        if avg_win > 0.5 and found_5p0 == False:\n",
    "            found_5p0 = True\n",
    "            print(f'\\n** Passed 0.5 at episode {i_episode} **')\n",
    "        print(f'\\rEpisode {i_episode}\\t100-Ep. Avg.: {avg_win:.2f}\\tMax Ep. Score: {max_ep_score:.2f}', end='')\n",
    "        if i_episode % 100 == 0 or avg_win > 0.6:\n",
    "            torch.save(agents.actor_local.state_dict(), 'checkpoint_actor.pth')\n",
    "            torch.save(agents.critic_local.state_dict(), 'checkpoint_critic.pth')\n",
    "            print(f'\\rEpisode {i_episode}\\t100-Ep. Avg.: {avg_win:.2f}\\tMax Ep. Score: {max_ep_score:.2f}')\n",
    "            max_ep_score = float('-inf')\n",
    "        if avg_win > 0.6:\n",
    "            break\n",
    "    return scores, avgs\n",
    "\n",
    "scores, avgs = ddpg()\n",
    "\n",
    "fig = plt.figure()\n",
    "ax = fig.add_subplot(111)\n",
    "plt.plot(np.arange(1, len(scores)+1), scores)\n",
    "plt.axhline(y=0.5, color='r')\n",
    "plt.plot(np.arange(1, len(avgs)+1), avgs, color='orange')\n",
    "plt.ylabel('Score')\n",
    "plt.xlabel('Episode #')\n",
    "plt.show()"
   ]
  },
  {
   "cell_type": "markdown",
   "metadata": {},
   "source": [
    "### 7. Watch the Agent"
   ]
  },
  {
   "cell_type": "code",
   "execution_count": 1,
   "metadata": {},
   "outputs": [
    {
     "name": "stderr",
     "output_type": "stream",
     "text": [
      "INFO:unityagents:\n",
      "'Academy' started successfully!\n",
      "Unity Academy name: Academy\n",
      "        Number of Brains: 1\n",
      "        Number of External Brains : 1\n",
      "        Lesson number : 0\n",
      "        Reset Parameters :\n",
      "\t\t\n",
      "Unity brain name: TennisBrain\n",
      "        Number of Visual Observations (per agent): 0\n",
      "        Vector Observation space type: continuous\n",
      "        Vector Observation space size (per agent): 8\n",
      "        Number of stacked Vector Observation: 3\n",
      "        Vector Action space type: continuous\n",
      "        Vector Action space size (per agent): 2\n",
      "        Vector Action descriptions: , \n"
     ]
    }
   ],
   "source": [
    "from unityagents import UnityEnvironment\n",
    "import numpy as np\n",
    "import random\n",
    "import time\n",
    "import torch\n",
    "from collections import deque\n",
    "\n",
    "from ddpg_agent import Agent\n",
    "\n",
    "env = UnityEnvironment(file_name='Tennis_Windows_x86_64/Tennis.exe')\n",
    "brain_name = env.brain_names[0]\n",
    "brain = env.brains[brain_name]\n",
    "env_info = env.reset(train_mode=True)[brain_name]\n",
    "num_agents = len(env_info.agents)\n",
    "action_size = brain.vector_action_space_size\n",
    "states = env_info.vector_observations\n",
    "state_size = states.shape[1]\n",
    "\n",
    "# load the weights from files\n",
    "agents = Agent(num_agents=num_agents, state_size=state_size, action_size=action_size, random_seed=time.time())\n",
    "agents.actor_local.load_state_dict(torch.load('checkpoint_actor.pth'))\n",
    "agents.critic_local.load_state_dict(torch.load('checkpoint_critic.pth'))"
   ]
  },
  {
   "cell_type": "code",
   "execution_count": 2,
   "metadata": {},
   "outputs": [
    {
     "name": "stdout",
     "output_type": "stream",
     "text": [
      "Score: 0.6600000113248825\n"
     ]
    }
   ],
   "source": [
    "env_info = env.reset(train_mode=False)[brain_name] # reset the environment\n",
    "agents.reset()\n",
    "states = env_info.vector_observations\n",
    "\n",
    "cur_score = 0  # initialize the score\n",
    "scores = np.zeros(num_agents)\n",
    "while True:\n",
    "    actions = agents.act(states)                   # adds noise by default\n",
    "    env_info = env.step(actions)[brain_name]       # send the actions to the environment\n",
    "    next_states = env_info.vector_observations     # get next state (for each agent)\n",
    "    rewards = env_info.rewards                     # get reward (for each agent)\n",
    "    dones = env_info.local_done                    # see if episode has finished\n",
    "    agents.step(states, actions, rewards, next_states, dones)\n",
    "    scores += rewards\n",
    "    states = next_states\n",
    "    cur_score = np.max(scores)\n",
    "    if cur_score > 0.6:                            # exit loop if goal reached\n",
    "        break\n",
    "    \n",
    "print(f'Score: {cur_score}')"
   ]
  }
 ],
 "metadata": {
  "kernelspec": {
   "display_name": "drlnd",
   "language": "python",
   "name": "drlnd"
  },
  "language_info": {
   "codemirror_mode": {
    "name": "ipython",
    "version": 3
   },
   "file_extension": ".py",
   "mimetype": "text/x-python",
   "name": "python",
   "nbconvert_exporter": "python",
   "pygments_lexer": "ipython3",
   "version": "3.6.13"
  }
 },
 "nbformat": 4,
 "nbformat_minor": 2
}
